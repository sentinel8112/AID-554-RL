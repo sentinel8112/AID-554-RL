{
  "nbformat": 4,
  "nbformat_minor": 0,
  "metadata": {
    "colab": {
      "provenance": []
    },
    "kernelspec": {
      "name": "python3",
      "display_name": "Python 3"
    },
    "language_info": {
      "name": "python"
    }
  },
  "cells": [
    {
      "cell_type": "code",
      "execution_count": null,
      "metadata": {
        "id": "DaH73gy7W4aK"
      },
      "outputs": [],
      "source": [
        "import numpy as np\n",
        "import random\n",
        "import matplotlib.pyplot as plt"
      ]
    },
    {
      "cell_type": "code",
      "source": [
        "np.random.seed(15)\n",
        "bandit_means = np.random.uniform(0,1,10)\n",
        "\n",
        "maxBandit = 0\n",
        "for j in range(10):\n",
        "  if maxBandit < bandit_means[j]:\n",
        "    maxBandit = bandit_means[j]\n",
        "\n",
        "print(bandit_means)\n",
        "print(maxBandit)\n",
        "\n",
        "maxBandit = np.ones(10000) * maxBandit"
      ],
      "metadata": {
        "colab": {
          "base_uri": "https://localhost:8080/"
        },
        "id": "yPgpUIreX5m2",
        "outputId": "56178802-8e58-4f17-f775-c7382448630c"
      },
      "execution_count": null,
      "outputs": [
        {
          "output_type": "stream",
          "name": "stdout",
          "text": [
            "[0.8488177  0.17889592 0.05436321 0.36153845 0.27540093 0.53000022\n",
            " 0.30591892 0.30447436 0.11174128 0.24989901]\n",
            "0.8488176972685787\n"
          ]
        }
      ]
    },
    {
      "cell_type": "code",
      "source": [
        "T = 10000\n",
        "epsilon = 0.1\n",
        "t = int(T*epsilon/10)\n",
        "Tbar = int(T*(1-epsilon))\n",
        "wins = [0, 0, 0, 0, 0, 0, 0, 0, 0, 0]\n",
        "win = 0\n",
        "max = 0\n",
        "winarray = []\n",
        "Trials = np.ones(10) * t"
      ],
      "metadata": {
        "id": "sKT0ytV-d0MS"
      },
      "execution_count": null,
      "outputs": []
    },
    {
      "cell_type": "markdown",
      "source": [
        "eG1"
      ],
      "metadata": {
        "id": "LvMWq51scmkY"
      }
    },
    {
      "cell_type": "code",
      "source": [
        "#for z in range(1000):\n",
        "  # exploration phase\n",
        "\n",
        "for i in range(t):\n",
        "  for j in range(10):\n",
        "    # bandit means 0\n",
        "    num = random.random()\n",
        "    if num <= bandit_means[j]:\n",
        "      wins[j] = wins[j] + 1\n",
        "      win = win + 1\n",
        "      # print(i*10+j+1)\n",
        "      # print(win)\n",
        "      x = win/(i*10+j+1)\n",
        "      winarray.append(x)\n",
        "\n",
        "\n",
        "# finding the arm with best probability\n",
        "\n",
        "max = 0\n",
        "index = -1\n",
        "for j in range(10):\n",
        "  if max < wins[j]:\n",
        "    max = wins[j]\n",
        "    index = j\n",
        "\n",
        "\n",
        "# commiting to the best arm\n",
        "\n",
        "for i in range(Tbar):\n",
        "  num = random.random()\n",
        "  if num <= bandit_means[index]:\n",
        "    wins[index] = wins[index] + 1\n",
        "    win = win + 1\n",
        "    # print(i+t*10+1)\n",
        "    # print(win)\n",
        "    x = win/(i+t*10+1)\n",
        "    winarray.append(x)\n",
        "\n",
        "plt.plot(winarray)\n",
        "plt.plot([bandit_means[0]]*T)"
      ],
      "metadata": {
        "colab": {
          "base_uri": "https://localhost:8080/",
          "height": 447
        },
        "id": "CIndaLKJZh6q",
        "outputId": "7a2ffed9-8f2b-4ad2-df0e-64415a96255a"
      },
      "execution_count": null,
      "outputs": [
        {
          "output_type": "execute_result",
          "data": {
            "text/plain": [
              "[<matplotlib.lines.Line2D at 0x7fc3f02345b0>]"
            ]
          },
          "metadata": {},
          "execution_count": 4
        },
        {
          "output_type": "display_data",
          "data": {
            "text/plain": [
              "<Figure size 640x480 with 1 Axes>"
            ],
            "image/png": "[encoded data removed]"
          },
          "metadata": {}
        }
      ]
    },
    {
      "cell_type": "code",
      "source": [
        "win"
      ],
      "metadata": {
        "colab": {
          "base_uri": "https://localhost:8080/"
        },
        "id": "o-1dkAkdUX6N",
        "outputId": "db744ddd-ac92-47c5-9136-316ae37c3258"
      },
      "execution_count": null,
      "outputs": [
        {
          "output_type": "execute_result",
          "data": {
            "text/plain": [
              "7962"
            ]
          },
          "metadata": {},
          "execution_count": 5
        }
      ]
    },
    {
      "cell_type": "code",
      "source": [
        "pavg = np.average(bandit_means)\n",
        "pavg"
      ],
      "metadata": {
        "colab": {
          "base_uri": "https://localhost:8080/"
        },
        "id": "PxsQ_EvQlQPs",
        "outputId": "f5cdf642-679c-43a9-f202-92fdd221495a"
      },
      "execution_count": null,
      "outputs": [
        {
          "output_type": "execute_result",
          "data": {
            "text/plain": [
              "0.3221050001031837"
            ]
          },
          "metadata": {},
          "execution_count": 6
        }
      ]
    },
    {
      "cell_type": "markdown",
      "source": [
        "eG2"
      ],
      "metadata": {
        "id": "5-UM6x8VnTfC"
      }
    },
    {
      "cell_type": "code",
      "source": [
        "T = 10000\n",
        "epsilon = 0.1\n",
        "t = int(T*epsilon/10)\n",
        "Tbar = int(T*(1-epsilon))\n",
        "wins = [0, 0, 0, 0, 0, 0, 0, 0, 0, 0]\n",
        "win = 0\n",
        "max = 0\n",
        "Trials = np.ones(10) * t\n",
        "winarray = []"
      ],
      "metadata": {
        "id": "lJ6UXy8NZB8a"
      },
      "execution_count": null,
      "outputs": []
    },
    {
      "cell_type": "code",
      "source": [
        "# exploration phase\n",
        "\n",
        "for i in range(t):\n",
        "  for j in range(10):\n",
        "    # bandit means 0\n",
        "    num = random.random()\n",
        "    if num <= bandit_means[j]:\n",
        "      wins[j] = wins[j] + 1\n",
        "      win = win + 1\n",
        "      x = win/(i*10+j+1)\n",
        "      winarray.append(x)\n",
        "\n",
        "\n",
        "Trials = np.ones(10) * t\n",
        "\n",
        "# commiting to the best arm\n",
        "\n",
        "for i in range(Tbar):\n",
        "  max = 0\n",
        "  index = -1\n",
        "  probab = wins/Trials\n",
        "  for j in range(10):\n",
        "    if max < probab[j]:\n",
        "      max = probab[j]\n",
        "      index = j\n",
        "  num = random.random()\n",
        "  Trials[index] = Trials[index] + 1\n",
        "  if num <= bandit_means[index]:\n",
        "    wins[index] = wins[index] + 1\n",
        "    win = win + 1\n",
        "    x = win/(i+t*10+1)\n",
        "    winarray.append(x)\n",
        "\n",
        "plt.plot(winarray)\n",
        "plt.plot(maxBandit)"
      ],
      "metadata": {
        "colab": {
          "base_uri": "https://localhost:8080/",
          "height": 447
        },
        "id": "CfMWK1aMnVqa",
        "outputId": "885a6539-48f5-433f-e724-595da516ff6f"
      },
      "execution_count": null,
      "outputs": [
        {
          "output_type": "execute_result",
          "data": {
            "text/plain": [
              "[<matplotlib.lines.Line2D at 0x7fc3f0137400>]"
            ]
          },
          "metadata": {},
          "execution_count": 8
        },
        {
          "output_type": "display_data",
          "data": {
            "text/plain": [
              "<Figure size 640x480 with 1 Axes>"
            ],
            "image/png": "[encoded data removed]"
          },
          "metadata": {}
        }
      ]
    },
    {
      "cell_type": "markdown",
      "source": [
        "eG3"
      ],
      "metadata": {
        "id": "3GLx6RmYqEi8"
      }
    },
    {
      "cell_type": "code",
      "source": [
        "T = 10000\n",
        "epsilon = 0.1\n",
        "t = int(T*epsilon/10)\n",
        "Tbar = int(T*(1-epsilon))\n",
        "wins = [0, 0, 0, 0, 0, 0, 0, 0, 0, 0]\n",
        "win = 0\n",
        "max = 0\n",
        "winarray = np.zeros(10000)\n",
        "Trials = np.ones(10) * t\n",
        "Trials"
      ],
      "metadata": {
        "id": "v9ctujZbvLBy",
        "colab": {
          "base_uri": "https://localhost:8080/"
        },
        "outputId": "abe5c757-600d-4f6c-cbe3-8a417d9516cc"
      },
      "execution_count": null,
      "outputs": [
        {
          "output_type": "execute_result",
          "data": {
            "text/plain": [
              "array([100., 100., 100., 100., 100., 100., 100., 100., 100., 100.])"
            ]
          },
          "metadata": {},
          "execution_count": 7
        }
      ]
    },
    {
      "cell_type": "code",
      "source": [
        "Trials"
      ],
      "metadata": {
        "colab": {
          "base_uri": "https://localhost:8080/"
        },
        "id": "1st9N1wcWIXE",
        "outputId": "1dc20a16-0cf5-48ac-ee59-54c97614d8a2"
      },
      "execution_count": null,
      "outputs": [
        {
          "output_type": "execute_result",
          "data": {
            "text/plain": [
              "array([100., 100., 100., 100., 100., 100., 100., 100., 100., 100.])"
            ]
          },
          "metadata": {},
          "execution_count": 8
        }
      ]
    },
    {
      "cell_type": "code",
      "source": [
        "eg3_mean=0\n",
        "for z in range(1000):\n",
        "  for i in range(T-1):\n",
        "    numT = random.random()\n",
        "\n",
        "    # Exploration\n",
        "    if numT < epsilon:\n",
        "      index = random.randint(0,9)\n",
        "      num = random.random()\n",
        "      Trials[index] = Trials[index] + 1\n",
        "      if num <= bandit_means[index]:\n",
        "        wins[index] = wins[index] + 1\n",
        "        win = win + 1\n",
        "        winarray[i] = winarray[i]+1\n",
        "\n",
        "    # Exploitation\n",
        "    elif numT >= epsilon:\n",
        "      max = 0\n",
        "      index = -1\n",
        "      probab = wins/Trials\n",
        "      for j in range(10):\n",
        "        if max <= probab[j]:\n",
        "          max = probab[j]\n",
        "          index = j\n",
        "      num = random.random()\n",
        "      Trials[index] = Trials[index] + 1\n",
        "      if num <= bandit_means[index]:\n",
        "        wins[index] = wins[index] + 1\n",
        "        win = win + 1\n",
        "        winarray[i] = winarray[i]+1\n",
        "  eg3_mean = eg3_mean+win\n",
        "\n",
        "\n",
        "eg3_mean/100\n",
        "winarray = winarray/1000\n",
        "plt.plot(winarray)\n",
        "plt.plot([bandit_means[0]*0.9 + 0.1*pavg]*T)"
      ],
      "metadata": {
        "colab": {
          "base_uri": "https://localhost:8080/",
          "height": 623
        },
        "id": "p_Ay4Xqwp7iT",
        "outputId": "d1f2f654-fad0-46e9-80bf-9d11e2f1df2a"
      },
      "execution_count": null,
      "outputs": [
        {
          "output_type": "error",
          "ename": "NameError",
          "evalue": "name 'pavg' is not defined",
          "traceback": [
            "\u001b[0;31m---------------------------------------------------------------------------\u001b[0m",
            "\u001b[0;31mNameError\u001b[0m                                 Traceback (most recent call last)",
            "\u001b[0;32m<ipython-input-9-366f8f79fe01>\u001b[0m in \u001b[0;36m<cell line: 37>\u001b[0;34m()\u001b[0m\n\u001b[1;32m     35\u001b[0m \u001b[0mwinarray\u001b[0m \u001b[0;34m=\u001b[0m \u001b[0mwinarray\u001b[0m\u001b[0;34m/\u001b[0m\u001b[0;36m1000\u001b[0m\u001b[0;34m\u001b[0m\u001b[0;34m\u001b[0m\u001b[0m\n\u001b[1;32m     36\u001b[0m \u001b[0mplt\u001b[0m\u001b[0;34m.\u001b[0m\u001b[0mplot\u001b[0m\u001b[0;34m(\u001b[0m\u001b[0mwinarray\u001b[0m\u001b[0;34m)\u001b[0m\u001b[0;34m\u001b[0m\u001b[0;34m\u001b[0m\u001b[0m\n\u001b[0;32m---> 37\u001b[0;31m \u001b[0mplt\u001b[0m\u001b[0;34m.\u001b[0m\u001b[0mplot\u001b[0m\u001b[0;34m(\u001b[0m\u001b[0;34m[\u001b[0m\u001b[0mbandit_means\u001b[0m\u001b[0;34m[\u001b[0m\u001b[0;36m0\u001b[0m\u001b[0;34m]\u001b[0m\u001b[0;34m*\u001b[0m\u001b[0;36m0.9\u001b[0m \u001b[0;34m+\u001b[0m \u001b[0;36m0.1\u001b[0m\u001b[0;34m*\u001b[0m\u001b[0mpavg\u001b[0m\u001b[0;34m]\u001b[0m\u001b[0;34m*\u001b[0m\u001b[0mT\u001b[0m\u001b[0;34m)\u001b[0m\u001b[0;34m\u001b[0m\u001b[0;34m\u001b[0m\u001b[0m\n\u001b[0m",
            "\u001b[0;31mNameError\u001b[0m: name 'pavg' is not defined"
          ]
        },
        {
          "output_type": "display_data",
          "data": {
            "text/plain": [
              "<Figure size 640x480 with 1 Axes>"
            ],
            "image/png": "[encoded data removed]"
          },
          "metadata": {}
        }
      ]
    },
    {
      "cell_type": "code",
      "source": [],
      "metadata": {
        "id": "im2qtyn3jaBq"
      },
      "execution_count": null,
      "outputs": []
    },
    {
      "cell_type": "markdown",
      "source": [
        "eG1\n"
      ],
      "metadata": {
        "id": "rZmJ5Jxadgbm"
      }
    },
    {
      "cell_type": "code",
      "source": [
        "T = 10000\n",
        "epsilon = 0.1\n",
        "t = int(T*epsilon/10)\n",
        "Tbar = int(T*(1-epsilon))\n",
        "wins = [0, 0, 0, 0, 0, 0, 0, 0, 0, 0]\n",
        "win = 0\n",
        "max = 0\n",
        "winarray = []"
      ],
      "metadata": {
        "id": "ak1awQJMdslN"
      },
      "execution_count": null,
      "outputs": []
    },
    {
      "cell_type": "code",
      "source": [
        "#for z in range(1000):\n",
        "  # exploration phase\n",
        "\n",
        "for i in range(t):\n",
        "  for j in range(10):\n",
        "    # bandit means 0\n",
        "    num = np.random.normal(bandit_means[j],1.0)\n",
        "    wins[j] = wins[j] + num\n",
        "    win = win + num\n",
        "    # print(i*10+j+1)\n",
        "    # print(win)\n",
        "    x = win/(i*10+j+1)\n",
        "    winarray.append(x)\n",
        "\n",
        "\n",
        "# finding the arm with best probability\n",
        "\n",
        "max = 0\n",
        "index = -1\n",
        "for j in range(10):\n",
        "  if max < wins[j]:\n",
        "    max = wins[j]\n",
        "    index = j\n",
        "\n",
        "\n",
        "# commiting to the best arm\n",
        "\n",
        "for i in range(Tbar):\n",
        "  num = np.random.normal(bandit_means[index],1.0)\n",
        "  wins[index] = wins[index] + num\n",
        "  win = win + num\n",
        "  # print(i+t*10+1)\n",
        "  # print(win)\n",
        "  x = win/(i+t*10+1)\n",
        "  winarray.append(x)\n",
        "\n",
        "plt.plot(winarray)\n",
        "plt.plot(maxBandit)"
      ],
      "metadata": {
        "id": "9g3mCOAXduHr",
        "colab": {
          "base_uri": "https://localhost:8080/",
          "height": 447
        },
        "outputId": "935a255f-018a-45dd-d1e7-dc2b50c8f9bf"
      },
      "execution_count": null,
      "outputs": [
        {
          "output_type": "execute_result",
          "data": {
            "text/plain": [
              "[<matplotlib.lines.Line2D at 0x7fc3d4b35090>]"
            ]
          },
          "metadata": {},
          "execution_count": 20
        },
        {
          "output_type": "display_data",
          "data": {
            "text/plain": [
              "<Figure size 640x480 with 1 Axes>"
            ],
            "image/png": "[encoded data removed]"
          },
          "metadata": {}
        }
      ]
    },
    {
      "cell_type": "markdown",
      "source": [
        "eG2\n"
      ],
      "metadata": {
        "id": "xeSLqcxmemrR"
      }
    },
    {
      "cell_type": "code",
      "source": [
        "T = 10000\n",
        "epsilon = 0.1\n",
        "t = int(T*epsilon/10)\n",
        "Tbar = int(T*(1-epsilon))\n",
        "wins = [0, 0, 0, 0, 0, 0, 0, 0, 0, 0]\n",
        "win = 0\n",
        "max = 0\n",
        "winarray = []"
      ],
      "metadata": {
        "id": "VRomcQoyelnX"
      },
      "execution_count": null,
      "outputs": []
    },
    {
      "cell_type": "code",
      "source": [
        "# exploration phase\n",
        "\n",
        "for i in range(t):\n",
        "  for j in range(10):\n",
        "    # bandit means 0\n",
        "    num = np.random.normal(bandit_means[j],1.0)\n",
        "    wins[j] = wins[j] + num\n",
        "    win = win + num\n",
        "    x = win/(i*10+j+1)\n",
        "    winarray.append(x)\n",
        "\n",
        "\n",
        "Trials = np.ones(10) * t\n",
        "\n",
        "# commiting to the best arm\n",
        "\n",
        "for i in range(Tbar):\n",
        "  max = 0\n",
        "  index = -1\n",
        "  probab = wins/Trials\n",
        "  for j in range(10):\n",
        "    if max < probab[j]:\n",
        "      max = probab[j]\n",
        "      index = j\n",
        "  Trials[index] = Trials[index] + 1\n",
        "  num = np.random.normal(bandit_means[index],1.0)\n",
        "  wins[index] = wins[index] + num\n",
        "  win = win + num\n",
        "  x = win/(i+t*10+1)\n",
        "  winarray.append(x)\n",
        "\n",
        "plt.plot(winarray)\n",
        "plt.plot(maxBandit)"
      ],
      "metadata": {
        "id": "0mfWFkF-epBt",
        "colab": {
          "base_uri": "https://localhost:8080/",
          "height": 447
        },
        "outputId": "733075fd-3594-45c1-c009-8e29c297e9ae"
      },
      "execution_count": null,
      "outputs": [
        {
          "output_type": "execute_result",
          "data": {
            "text/plain": [
              "[<matplotlib.lines.Line2D at 0x7fc3d4ce6800>]"
            ]
          },
          "metadata": {},
          "execution_count": 22
        },
        {
          "output_type": "display_data",
          "data": {
            "text/plain": [
              "<Figure size 640x480 with 1 Axes>"
            ],
            "image/png": "[encoded data removed]"
          },
          "metadata": {}
        }
      ]
    },
    {
      "cell_type": "markdown",
      "source": [
        "eG3"
      ],
      "metadata": {
        "id": "hvqKZ31OfO_b"
      }
    },
    {
      "cell_type": "code",
      "source": [
        "T = 10000\n",
        "epsilon = 0.1\n",
        "t = int(T*epsilon/10)\n",
        "Tbar = int(T*(1-epsilon))\n",
        "wins = [0, 0, 0, 0, 0, 0, 0, 0, 0, 0]\n",
        "win = 0\n",
        "max = 0\n",
        "winarray = np.zeros(T)\n",
        "Trials = np.ones(10) * t"
      ],
      "metadata": {
        "id": "58BZQApCfQJN"
      },
      "execution_count": null,
      "outputs": []
    },
    {
      "cell_type": "code",
      "source": [
        "eg3_mean=0\n",
        "for z in range(1000):\n",
        "  for i in range(T-1):\n",
        "    numT = random.random()\n",
        "\n",
        "    # Exploration\n",
        "    if numT < epsilon:\n",
        "      index = random.randint(0,9)\n",
        "      Trials[index] = Trials[index] + 1\n",
        "      num = np.random.normal(bandit_means[index],1.0)\n",
        "      wins[index] = wins[index] + num\n",
        "      win = win + num\n",
        "      winarray[i] = winarray[i] + num\n",
        "\n",
        "    # Exploitation\n",
        "    elif numT >= epsilon:\n",
        "      max = 0\n",
        "      index = -1\n",
        "      probab = wins/Trials\n",
        "      for j in range(10):\n",
        "        if max <= probab[j]:\n",
        "          max = probab[j]\n",
        "          index = j\n",
        "      Trials[index] = Trials[index] + 1\n",
        "      num = np.random.normal(bandit_means[index],1.0)\n",
        "      wins[index] = wins[index] + num\n",
        "      win = win + num\n",
        "      winarray[i] = winarray[i] + num\n",
        "  eg3_mean = eg3_mean + win\n",
        "\n",
        "\n",
        "eg3_mean/100\n",
        "winarray = winarray/1000\n",
        "plt.plot(winarray)\n",
        "plt.plot([bandit_means[0]*0.9 + 0.1*pavg]*T)"
      ],
      "metadata": {
        "id": "GzJnDWR-fUIA",
        "colab": {
          "base_uri": "https://localhost:8080/",
          "height": 447
        },
        "outputId": "5b8fd847-0741-415e-ad9f-64d165b94257"
      },
      "execution_count": null,
      "outputs": [
        {
          "output_type": "execute_result",
          "data": {
            "text/plain": [
              "[<matplotlib.lines.Line2D at 0x7fc3d5b0cb50>]"
            ]
          },
          "metadata": {},
          "execution_count": 16
        },
        {
          "output_type": "display_data",
          "data": {
            "text/plain": [
              "<Figure size 640x480 with 1 Axes>"
            ],
            "image/png": "[encoded data removed]"
          },
          "metadata": {}
        }
      ]
    },
    {
      "cell_type": "code",
      "source": [],
      "metadata": {
        "id": "viqrGi7WjZfw"
      },
      "execution_count": null,
      "outputs": []
    },
    {
      "cell_type": "code",
      "source": [],
      "metadata": {
        "id": "ZdmLACKYjLjA"
      },
      "execution_count": null,
      "outputs": []
    },
    {
      "cell_type": "markdown",
      "source": [
        "Trial Cells"
      ],
      "metadata": {
        "id": "1jit0WLYqHIC"
      }
    },
    {
      "cell_type": "code",
      "source": [
        "Trials = np.ones(10) * t\n",
        "Trials"
      ],
      "metadata": {
        "colab": {
          "base_uri": "https://localhost:8080/"
        },
        "id": "Dj23RmGeoi2y",
        "outputId": "4b394685-6f86-45f6-ad2d-26fefe682360"
      },
      "execution_count": null,
      "outputs": [
        {
          "output_type": "execute_result",
          "data": {
            "text/plain": [
              "array([100., 100., 100., 100., 100., 100., 100., 100., 100., 100.])"
            ]
          },
          "metadata": {},
          "execution_count": 51
        }
      ]
    },
    {
      "cell_type": "code",
      "source": [
        "sum = 0\n",
        "for i in range(1000):\n",
        "  sum = sum + random.randint(0,9)\n",
        "sum/1000"
      ],
      "metadata": {
        "colab": {
          "base_uri": "https://localhost:8080/"
        },
        "id": "56nH1pNQpXqA",
        "outputId": "11e8c8b4-ad85-481b-c30b-60dfa80a2a19"
      },
      "execution_count": null,
      "outputs": [
        {
          "output_type": "execute_result",
          "data": {
            "text/plain": [
              "4.511"
            ]
          },
          "metadata": {},
          "execution_count": 76
        }
      ]
    },
    {
      "cell_type": "code",
      "source": [
        "mylist = []\n",
        "for i in range(6):\n",
        "    mylist.append(i)\n",
        "\n",
        "mylist"
      ],
      "metadata": {
        "id": "ULvtJ-Ntr75R",
        "colab": {
          "base_uri": "https://localhost:8080/"
        },
        "outputId": "7e50046c-4344-4bcc-b792-17c9068da2e2"
      },
      "execution_count": null,
      "outputs": [
        {
          "output_type": "execute_result",
          "data": {
            "text/plain": [
              "[0, 1, 2, 3, 4, 5]"
            ]
          },
          "metadata": {},
          "execution_count": 1
        }
      ]
    },
    {
      "cell_type": "code",
      "source": [],
      "metadata": {
        "id": "khMmsdo6TEzV"
      },
      "execution_count": null,
      "outputs": []
    }
  ]
}