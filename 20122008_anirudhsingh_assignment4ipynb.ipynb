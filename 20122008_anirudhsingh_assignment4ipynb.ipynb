{
  "cells": [
    {
      "cell_type": "code",
      "source": [
        "!pip install numba"
      ],
      "metadata": {
        "colab": {
          "base_uri": "https://localhost:8080/"
        },
        "id": "gOPKTqXYBYk1",
        "outputId": "dd810e91-c44c-46f7-88c8-9dde214ff979"
      },
      "execution_count": 1,
      "outputs": [
        {
          "output_type": "stream",
          "name": "stdout",
          "text": [
            "Requirement already satisfied: numba in /usr/local/lib/python3.10/dist-packages (0.58.1)\n",
            "Requirement already satisfied: llvmlite<0.42,>=0.41.0dev0 in /usr/local/lib/python3.10/dist-packages (from numba) (0.41.1)\n",
            "Requirement already satisfied: numpy<1.27,>=1.22 in /usr/local/lib/python3.10/dist-packages (from numba) (1.25.2)\n"
          ]
        }
      ]
    },
    {
      "cell_type": "code",
      "source": [
        "!pip install ortools"
      ],
      "metadata": {
        "colab": {
          "base_uri": "https://localhost:8080/"
        },
        "id": "MyXrRIQsYfad",
        "outputId": "9a58bf7f-c9bb-4245-fd7f-1c4d204e8533"
      },
      "execution_count": 2,
      "outputs": [
        {
          "output_type": "stream",
          "name": "stdout",
          "text": [
            "Collecting ortools\n",
            "  Downloading ortools-9.9.3963-cp310-cp310-manylinux_2_17_x86_64.manylinux2014_x86_64.whl (24.8 MB)\n",
            "\u001b[2K     \u001b[90m━━━━━━━━━━━━━━━━━━━━━━━━━━━━━━━━━━━━━━━━\u001b[0m \u001b[32m24.8/24.8 MB\u001b[0m \u001b[31m42.9 MB/s\u001b[0m eta \u001b[36m0:00:00\u001b[0m\n",
            "\u001b[?25hCollecting absl-py>=2.0.0 (from ortools)\n",
            "  Downloading absl_py-2.1.0-py3-none-any.whl (133 kB)\n",
            "\u001b[2K     \u001b[90m━━━━━━━━━━━━━━━━━━━━━━━━━━━━━━━━━━━━━━━━\u001b[0m \u001b[32m133.7/133.7 kB\u001b[0m \u001b[31m17.2 MB/s\u001b[0m eta \u001b[36m0:00:00\u001b[0m\n",
            "\u001b[?25hRequirement already satisfied: numpy>=1.13.3 in /usr/local/lib/python3.10/dist-packages (from ortools) (1.25.2)\n",
            "Collecting pandas>=2.0.0 (from ortools)\n",
            "  Downloading pandas-2.2.1-cp310-cp310-manylinux_2_17_x86_64.manylinux2014_x86_64.whl (13.0 MB)\n",
            "\u001b[2K     \u001b[90m━━━━━━━━━━━━━━━━━━━━━━━━━━━━━━━━━━━━━━━━\u001b[0m \u001b[32m13.0/13.0 MB\u001b[0m \u001b[31m43.0 MB/s\u001b[0m eta \u001b[36m0:00:00\u001b[0m\n",
            "\u001b[?25hCollecting protobuf>=4.25.3 (from ortools)\n",
            "  Downloading protobuf-4.25.3-cp37-abi3-manylinux2014_x86_64.whl (294 kB)\n",
            "\u001b[2K     \u001b[90m━━━━━━━━━━━━━━━━━━━━━━━━━━━━━━━━━━━━━━━━\u001b[0m \u001b[32m294.6/294.6 kB\u001b[0m \u001b[31m16.4 MB/s\u001b[0m eta \u001b[36m0:00:00\u001b[0m\n",
            "\u001b[?25hCollecting immutabledict>=3.0.0 (from ortools)\n",
            "  Downloading immutabledict-4.2.0-py3-none-any.whl (4.7 kB)\n",
            "Requirement already satisfied: python-dateutil>=2.8.2 in /usr/local/lib/python3.10/dist-packages (from pandas>=2.0.0->ortools) (2.8.2)\n",
            "Requirement already satisfied: pytz>=2020.1 in /usr/local/lib/python3.10/dist-packages (from pandas>=2.0.0->ortools) (2023.4)\n",
            "Collecting tzdata>=2022.7 (from pandas>=2.0.0->ortools)\n",
            "  Downloading tzdata-2024.1-py2.py3-none-any.whl (345 kB)\n",
            "\u001b[2K     \u001b[90m━━━━━━━━━━━━━━━━━━━━━━━━━━━━━━━━━━━━━━━━\u001b[0m \u001b[32m345.4/345.4 kB\u001b[0m \u001b[31m35.9 MB/s\u001b[0m eta \u001b[36m0:00:00\u001b[0m\n",
            "\u001b[?25hRequirement already satisfied: six>=1.5 in /usr/local/lib/python3.10/dist-packages (from python-dateutil>=2.8.2->pandas>=2.0.0->ortools) (1.16.0)\n",
            "Installing collected packages: tzdata, protobuf, immutabledict, absl-py, pandas, ortools\n",
            "  Attempting uninstall: protobuf\n",
            "    Found existing installation: protobuf 3.20.3\n",
            "    Uninstalling protobuf-3.20.3:\n",
            "      Successfully uninstalled protobuf-3.20.3\n",
            "  Attempting uninstall: absl-py\n",
            "    Found existing installation: absl-py 1.4.0\n",
            "    Uninstalling absl-py-1.4.0:\n",
            "      Successfully uninstalled absl-py-1.4.0\n",
            "  Attempting uninstall: pandas\n",
            "    Found existing installation: pandas 1.5.3\n",
            "    Uninstalling pandas-1.5.3:\n",
            "      Successfully uninstalled pandas-1.5.3\n",
            "\u001b[31mERROR: pip's dependency resolver does not currently take into account all the packages that are installed. This behaviour is the source of the following dependency conflicts.\n",
            "bigframes 0.22.0 requires pandas<2.1.4,>=1.5.0, but you have pandas 2.2.1 which is incompatible.\n",
            "google-colab 1.0.0 requires pandas==1.5.3, but you have pandas 2.2.1 which is incompatible.\n",
            "tensorflow-metadata 1.14.0 requires absl-py<2.0.0,>=0.9, but you have absl-py 2.1.0 which is incompatible.\n",
            "tensorflow-metadata 1.14.0 requires protobuf<4.21,>=3.20.3, but you have protobuf 4.25.3 which is incompatible.\u001b[0m\u001b[31m\n",
            "\u001b[0mSuccessfully installed absl-py-2.1.0 immutabledict-4.2.0 ortools-9.9.3963 pandas-2.2.1 protobuf-4.25.3 tzdata-2024.1\n"
          ]
        }
      ]
    },
    {
      "cell_type": "code",
      "source": [
        "from numba import jit\n",
        "from ortools.linear_solver import pywraplp\n",
        "import numpy as np"
      ],
      "metadata": {
        "id": "Aiz_nOYD3_q8"
      },
      "execution_count": 3,
      "outputs": []
    },
    {
      "cell_type": "code",
      "execution_count": 4,
      "metadata": {
        "id": "GszIe2lMxCSP",
        "colab": {
          "base_uri": "https://localhost:8080/"
        },
        "outputId": "53388483-213d-4815-f8b3-27a7f16838ac"
      },
      "outputs": [
        {
          "output_type": "stream",
          "name": "stdout",
          "text": [
            "Transition probability parameter f: [0.38488177]\n",
            "Transition probability parameter m: [0.31788959]\n",
            "Transition probability parameter s: [0.20543632]\n",
            "Discounting factor gamma: [0.93253846]\n"
          ]
        }
      ],
      "source": [
        "#Enter the sum of digits in your enrollment number as seed\n",
        "\n",
        "\n",
        "def environment(seed):\n",
        "  np.random.seed(seed)\n",
        "  f = np.random.uniform(0.3,0.4,1)\n",
        "  m = np.random.uniform(0.3,0.4,1)\n",
        "  s = np.random.uniform(0.2,0.3,1)\n",
        "  gamma = np.random.uniform(0.9,0.99,1)\n",
        "  return f, m, s, gamma\n",
        "\n",
        "seed = 15\n",
        "f,m,s,gamma = environment(seed)\n",
        "print('Transition probability parameter f:', f)\n",
        "print('Transition probability parameter m:', m)\n",
        "print('Transition probability parameter s:', s)\n",
        "print('Discounting factor gamma:', gamma)\n"
      ]
    },
    {
      "cell_type": "code",
      "execution_count": 5,
      "metadata": {
        "id": "GqtK411fxTog"
      },
      "outputs": [],
      "source": [
        "# def value_ite(f,m,s,gamma):\n",
        "#   va = np.zeros(3)\n",
        "#   vb = np.zeros(3)\n",
        "#   action = np.zeros(2)\n",
        "#   while(1):\n",
        "\n",
        "#     #   0 - standing , 1 - moving , 2 - fallen\n",
        "\n",
        "#     #   action 0 - slow - black ,   action 1 - aggressive - blue\n",
        "\n",
        "#     # standing\n",
        "#     action[0] = 1 + va[1]\n",
        "#     action[1] = (1-s)*(2 + (gamma*va[1])) +  (s)*(-1 + (gamma*va[2]))\n",
        "#     vb[0] = action.max()\n",
        "#     # moving\n",
        "#     action[0] = 1 + va[1]\n",
        "#     action[1] = (m)*(-1 + (gamma*va[2])) + (1-m)*(2 + (gamma*va[1]))\n",
        "#     vb[1] = action.max()\n",
        "\n",
        "#     #fallen\n",
        "#     vb[2] = (f)*(1 + (gamma*va[0])) + (1-f)*(-1 + (gamma*va[2]))\n",
        "\n",
        "#     if(sum(vb)==sum(va)):\n",
        "#       break\n",
        "#     va=vb\n",
        "\n",
        "#   return vb\n",
        "\n",
        "\n",
        "\n"
      ]
    },
    {
      "cell_type": "code",
      "source": [
        "F = f[0]\n",
        "M = m[0]\n",
        "S = s[0]\n",
        "g = gamma[0]"
      ],
      "metadata": {
        "id": "zwXIO1R4c6T4"
      },
      "execution_count": 27,
      "outputs": []
    },
    {
      "cell_type": "markdown",
      "source": [
        "# **Computing optimum value function**"
      ],
      "metadata": {
        "id": "rd8gKcu1CkXs"
      }
    },
    {
      "cell_type": "code",
      "source": [
        "va = np.zeros(3)\n",
        "vb = np.zeros(3)\n",
        "action = np.zeros(2)\n",
        "while(1):\n",
        "  #vb = np.zeros(3)*\n",
        "  #   0 - standing , 1 - moving , 2 - fallen\n",
        "\n",
        "  #   action 0 - slow,   action 1 - fast\n",
        "\n",
        "  # standing\n",
        "  action[0] = 1 + g*va[1]\n",
        "  action[1] = (1-S)*(2 + (g*va[1])) +  (S)*(-1 + (g*va[2]))\n",
        "  vb[0] = np.max(action)\n",
        "  # moving\n",
        "  action[0] = 1 + g*va[1]\n",
        "  action[1] = (M)*(-1 + (g*va[2])) + (1-M)*(2 + (g*va[1]))\n",
        "  vb[1] = np.max(action)\n",
        "\n",
        "  #fallen\n",
        "  vb[2] = (F)*(1 + (g*va[0])) + (1-F)*(-1 + (g*va[2]))\n",
        "\n",
        "  if np.allclose(va,vb):\n",
        "    break\n",
        "\n",
        "  va=np.copy(vb)"
      ],
      "metadata": {
        "id": "4yAJmTHvEsNv"
      },
      "execution_count": 63,
      "outputs": []
    },
    {
      "cell_type": "code",
      "execution_count": 64,
      "metadata": {
        "id": "VeHXIOxVyF_h"
      },
      "outputs": [],
      "source": [
        "v_star = vb"
      ]
    },
    {
      "cell_type": "code",
      "source": [
        "v_star"
      ],
      "metadata": {
        "colab": {
          "base_uri": "https://localhost:8080/"
        },
        "id": "6gtAyehGVfhE",
        "outputId": "ca90a6b3-8276-478b-dcb6-894823d8279a"
      },
      "execution_count": 65,
      "outputs": [
        {
          "output_type": "execute_result",
          "data": {
            "text/plain": [
              "array([14.82169106, 14.82169106, 11.93637627])"
            ]
          },
          "metadata": {},
          "execution_count": 65
        }
      ]
    },
    {
      "cell_type": "code",
      "execution_count": 66,
      "metadata": {
        "colab": {
          "base_uri": "https://localhost:8080/"
        },
        "id": "waMU_iNOxvny",
        "outputId": "dcff6706-ff85-458f-9489-94802efb7620"
      },
      "outputs": [
        {
          "output_type": "stream",
          "name": "stdout",
          "text": [
            "Optimal value for standing state 14.82169106286883\n",
            "Optimal value for moving state 14.82169106286883\n",
            "Optimal value for fallen state 11.936376271000064\n"
          ]
        }
      ],
      "source": [
        "print('Optimal value for standing state', v_star[0])\n",
        "print('Optimal value for moving state', v_star[1])\n",
        "print('Optimal value for fallen state', v_star[2])"
      ]
    },
    {
      "cell_type": "markdown",
      "source": [
        "Thus optimal values are\n",
        "\n",
        "---\n",
        "\n",
        "\n",
        "\n",
        "\n",
        "*   **standing - 14.82169106286883**\n",
        "*   **moving   - 14.82169106286883**\n",
        "*   **fallen   - 11.936376271000064**"
      ],
      "metadata": {
        "id": "AQui6A8xNIs_"
      }
    },
    {
      "cell_type": "markdown",
      "source": [
        "# **Optimal action values**"
      ],
      "metadata": {
        "id": "PgdLGn0hVj_j"
      }
    },
    {
      "cell_type": "code",
      "source": [
        "# def q_star(f,m,s,gamma,v):\n",
        "#   Q = np.zeros([3,2])\n",
        "\n",
        "#   T = np.zeros([3,2,3])\n",
        "#   T[0][0]= [0,1,0]\n",
        "#   T[0][1]= [0,1-s[0],s[0]]\n",
        "#   T[1][0]= [0,1,0]\n",
        "#   T[1][1]= [0,1-m[0],m[0]]\n",
        "#   T[2][0]= [f[0],0,1-f[0]]\n",
        "#   T[2][1]= [0,0,0]\n",
        "\n",
        "#   R = np.zeros([3,2,3])\n",
        "#   R[0][0]= [0,1,0]\n",
        "#   R[0][1]= [0,2,-1]\n",
        "#   R[1][0]= [0,1,0]\n",
        "#   R[1][1]= [0,2,-1]\n",
        "#   R[2][0]= [1,0,-1]\n",
        "#   R[2][1]= [0,0,0]\n",
        "\n",
        "#   for i in range(3):\n",
        "#     for j in range(2):\n",
        "#       Q[i][j] = sum(T[i][j]*(R[i][j] + gamma[0]*v))\n",
        "#   return Q\n"
      ],
      "metadata": {
        "id": "Rb7PcolzEdYn"
      },
      "execution_count": 10,
      "outputs": []
    },
    {
      "cell_type": "code",
      "source": [
        "Q_star = np.zeros([3,2])\n",
        "\n",
        "T = np.zeros([3,2,3])\n",
        "T[0][0]= [0,1,0]\n",
        "T[0][1]= [0,1-s[0],s[0]]\n",
        "T[1][0]= [0,1,0]\n",
        "T[1][1]= [0,1-m[0],m[0]]\n",
        "T[2][0]= [f[0],0,1-f[0]]\n",
        "T[2][1]= [0,0,0]\n",
        "\n",
        "R = np.zeros([3,2,3])\n",
        "R[0][0]= [0,1,0]\n",
        "R[0][1]= [0,2,-1]\n",
        "R[1][0]= [0,1,0]\n",
        "R[1][1]= [0,2,-1]\n",
        "R[2][0]= [1,0,-1]\n",
        "R[2][1]= [0,0,0]\n",
        "\n",
        "for i in range(3):\n",
        "  for j in range(2):\n",
        "    Q_star[i][j] = sum(T[i][j]*(R[i][j] + gamma[0]*v_star))"
      ],
      "metadata": {
        "id": "EOGLc6uWFAVL"
      },
      "execution_count": 67,
      "outputs": []
    },
    {
      "cell_type": "code",
      "source": [
        "Q_star"
      ],
      "metadata": {
        "colab": {
          "base_uri": "https://localhost:8080/"
        },
        "id": "3OS4izkW7Y5A",
        "outputId": "8b386792-a8e3-490e-9c20-e1ae6bd75663"
      },
      "execution_count": 68,
      "outputs": [
        {
          "output_type": "execute_result",
          "data": {
            "text/plain": [
              "array([[14.82179696, 14.65272726],\n",
              "       [14.82179696, 14.01279314],\n",
              "       [11.93648217,  0.        ]])"
            ]
          },
          "metadata": {},
          "execution_count": 68
        }
      ]
    },
    {
      "cell_type": "code",
      "source": [
        "print('Q*(standing,slow)       = ', Q_star[0][0])\n",
        "print('Q*(standing,aggressive) = ', Q_star[0][1])\n",
        "print('Q*(moving,slow)         = ', Q_star[1][0])\n",
        "print('Q*(moving,aggressive)   = ', Q_star[1][1])\n",
        "print('Q*(fallen,slow)         = ', Q_star[2][0])"
      ],
      "metadata": {
        "colab": {
          "base_uri": "https://localhost:8080/"
        },
        "id": "XGm-Jf4pAwcv",
        "outputId": "0ef9c23a-b482-47b6-e491-66355abcbcba"
      },
      "execution_count": 69,
      "outputs": [
        {
          "output_type": "stream",
          "name": "stdout",
          "text": [
            "Q*(standing,slow)       =  14.821796960556183\n",
            "Q*(standing,aggressive) =  14.652727262908204\n",
            "Q*(moving,slow)         =  14.821796960556183\n",
            "Q*(moving,aggressive)   =  14.012793142769047\n",
            "Q*(fallen,slow)         =  11.936482168687418\n"
          ]
        }
      ]
    },
    {
      "cell_type": "markdown",
      "source": [
        "Thus optimal policy is\n",
        "\n",
        "---\n",
        "\n",
        "\n",
        "\n",
        "\n",
        "*   **standing - slow action**\n",
        "*   **moving   - slow action**\n",
        "*   **fallen   - slow action(default)**\n",
        "\n",
        "\n",
        "\n",
        "\n"
      ],
      "metadata": {
        "id": "hsuKCgi3FcFz"
      }
    },
    {
      "cell_type": "code",
      "source": [
        "va = np.zeros(3)\n",
        "vb = np.zeros(3)\n",
        "while(1):\n",
        "\n",
        "  vb[0] = sum(T[0][0]*(R[0][0] + gamma*va))\n",
        "  vb[1] = sum((T[1][0])*(R[1][0] + gamma*va))\n",
        "  vb[2] = sum((T[2][0])*(R[2][0] + gamma*va))\n",
        "\n",
        "  if(vb[0]==va[0]):\n",
        "    if(vb[1]==va[1]):\n",
        "      if(vb[2]==va[2]):\n",
        "        break\n",
        "\n",
        "  va=np.copy(vb)"
      ],
      "metadata": {
        "id": "m62-_jH1D2he"
      },
      "execution_count": 76,
      "outputs": []
    },
    {
      "cell_type": "code",
      "source": [
        "v_pi_star = vb"
      ],
      "metadata": {
        "id": "dCMwg2g_KM8d"
      },
      "execution_count": 77,
      "outputs": []
    },
    {
      "cell_type": "code",
      "source": [
        "v_pi_star[2]"
      ],
      "metadata": {
        "colab": {
          "base_uri": "https://localhost:8080/"
        },
        "id": "iEcKBiTtKQQz",
        "outputId": "a2a00f4e-c797-42a6-c9ae-3841405d7e28"
      },
      "execution_count": 81,
      "outputs": [
        {
          "output_type": "execute_result",
          "data": {
            "text/plain": [
              "11.937946020039078"
            ]
          },
          "metadata": {},
          "execution_count": 81
        }
      ]
    },
    {
      "cell_type": "markdown",
      "source": [
        "Thus optimal values obtained from pi* are\n",
        "\n",
        "---\n",
        "\n",
        "\n",
        "\n",
        "\n",
        "*   **standing - 14.823260811907842**\n",
        "*   **moving   - 14.823260811907842**\n",
        "*   **fallen   - 11.937946020039078**"
      ],
      "metadata": {
        "id": "OPC9LvAeNb0Z"
      }
    },
    {
      "cell_type": "markdown",
      "source": [
        "# **Using OR tools**"
      ],
      "metadata": {
        "id": "eVA6ynDLY-Jv"
      }
    },
    {
      "cell_type": "code",
      "source": [
        "solver = pywraplp.Solver.CreateSolver(\"GLOP\")"
      ],
      "metadata": {
        "id": "h1sPXdGqLJeP"
      },
      "execution_count": 18,
      "outputs": []
    },
    {
      "cell_type": "code",
      "source": [
        "x = solver.NumVar(0, solver.infinity(), \"x\")\n",
        "y = solver.NumVar(0, solver.infinity(), \"y\")\n",
        "z = solver.NumVar(0, solver.infinity(), \"z\")"
      ],
      "metadata": {
        "id": "K_7rKBRtLJay"
      },
      "execution_count": 19,
      "outputs": []
    },
    {
      "cell_type": "code",
      "source": [
        "solver.constraints()"
      ],
      "metadata": {
        "colab": {
          "base_uri": "https://localhost:8080/"
        },
        "id": "5BxPdzVH2ylF",
        "outputId": "210d71ad-0815-49b9-f575-b5666b94c47c"
      },
      "execution_count": 20,
      "outputs": [
        {
          "output_type": "execute_result",
          "data": {
            "text/plain": [
              "[]"
            ]
          },
          "metadata": {},
          "execution_count": 20
        }
      ]
    },
    {
      "cell_type": "code",
      "source": [
        "#constraints - standing\n",
        "solver.Add(x - g*y >=1)\n",
        "solver.Add(x - (1-S) * g * y - S * g * z >= 2 - 3*S)"
      ],
      "metadata": {
        "id": "Zdwtqi51LJX3",
        "colab": {
          "base_uri": "https://localhost:8080/"
        },
        "outputId": "12924822-f607-43ad-ea84-6d004b26b873"
      },
      "execution_count": 21,
      "outputs": [
        {
          "output_type": "execute_result",
          "data": {
            "text/plain": [
              "<ortools.linear_solver.pywraplp.Constraint; proxy of <Swig Object of type 'operations_research::MPConstraint *' at 0x79ae7eb6e580> >"
            ]
          },
          "metadata": {},
          "execution_count": 21
        }
      ]
    },
    {
      "cell_type": "code",
      "source": [
        "#constraints - moving\n",
        "solver.Add((1-g) * y >= 1)\n",
        "solver.Add((1 - g*(1-M)) * y - M*g * z >= 2 - 3*M)"
      ],
      "metadata": {
        "id": "1RLmcy18LJVC",
        "colab": {
          "base_uri": "https://localhost:8080/"
        },
        "outputId": "92f1b0e5-54e9-4d9b-a679-ad31d7d0d1b8"
      },
      "execution_count": 22,
      "outputs": [
        {
          "output_type": "execute_result",
          "data": {
            "text/plain": [
              "<ortools.linear_solver.pywraplp.Constraint; proxy of <Swig Object of type 'operations_research::MPConstraint *' at 0x79ae7eb6e670> >"
            ]
          },
          "metadata": {},
          "execution_count": 22
        }
      ]
    },
    {
      "cell_type": "code",
      "source": [
        "#constraint - fallen\n",
        "solver.Add( -F*g * x + (1-(1-F)*g) * z >= 2*F - 1)"
      ],
      "metadata": {
        "id": "vqGusBucLJSM",
        "colab": {
          "base_uri": "https://localhost:8080/"
        },
        "outputId": "fdccf1f7-912b-4fbd-f7a2-7eeab4ea41cb"
      },
      "execution_count": 23,
      "outputs": [
        {
          "output_type": "execute_result",
          "data": {
            "text/plain": [
              "<ortools.linear_solver.pywraplp.Constraint; proxy of <Swig Object of type 'operations_research::MPConstraint *' at 0x79ae7eb6e5b0> >"
            ]
          },
          "metadata": {},
          "execution_count": 23
        }
      ]
    },
    {
      "cell_type": "code",
      "source": [
        "#objective function\n",
        "solver.Minimize(x + y +z)"
      ],
      "metadata": {
        "id": "gEDt4dsSLJPA"
      },
      "execution_count": 24,
      "outputs": []
    },
    {
      "cell_type": "code",
      "source": [
        "results = solver.Solve()"
      ],
      "metadata": {
        "id": "gaH0SoIX0l7m"
      },
      "execution_count": 25,
      "outputs": []
    },
    {
      "cell_type": "code",
      "source": [
        "#results\n",
        "if results == pywraplp.Solver.OPTIMAL:\n",
        "        print('Objective value =', solver.Objective().Value())\n",
        "        print('optimal value of standing: ', x.solution_value())\n",
        "        print('optimal value of moving:   ', y.solution_value())\n",
        "        print('optimal value of fallen:   ', z.solution_value())\n",
        "else:\n",
        "        print('The problem does not have an optimal solution.')"
      ],
      "metadata": {
        "id": "Ij2gMG3vLJL9",
        "colab": {
          "base_uri": "https://localhost:8080/"
        },
        "outputId": "7be5a1c5-bfb6-4fce-9b7c-b26390fcd7d0"
      },
      "execution_count": 26,
      "outputs": [
        {
          "output_type": "stream",
          "name": "stdout",
          "text": [
            "Objective value = 41.5844676438548\n",
            "optimal value of standing:  14.823260811907854\n",
            "optimal value of moving:    14.823260811907854\n",
            "optimal value of fallen:    11.937946020039092\n"
          ]
        }
      ]
    },
    {
      "cell_type": "markdown",
      "source": [
        "# **Policy Iteration**"
      ],
      "metadata": {
        "id": "2HDHhA9I1eON"
      }
    },
    {
      "cell_type": "code",
      "source": [
        "# #starting with arbitrary policy\n",
        "# policy = np.zeros(3)\n",
        "# for i in range(3):\n",
        "#     policy[i] = (np.random.randint(0,2))"
      ],
      "metadata": {
        "id": "1bo-qN101d9u"
      },
      "execution_count": 86,
      "outputs": []
    },
    {
      "cell_type": "markdown",
      "source": [
        "*Howards policy iteration*"
      ],
      "metadata": {
        "id": "fA3sfHO6jGvE"
      }
    },
    {
      "cell_type": "code",
      "source": [
        "# while(1):\n",
        "\n",
        "#   #standing\n",
        "#   IS = np.zeros(3)\n",
        ""
      ],
      "metadata": {
        "id": "sN6so3f61d6L"
      },
      "execution_count": null,
      "outputs": []
    },
    {
      "cell_type": "code",
      "source": [
        "def howard_policy_iteration(T, R, n_actions, n_states, gamma, max_iterations=1000, tolerance=1e-6):\n",
        "    # Initialize the value function and policy\n",
        "    V = np.zeros(n_states)\n",
        "    policy = np.zeros((n_states, n_actions))\n",
        "\n",
        "    for _ in range(max_iterations):\n",
        "        delta = 0\n",
        "        for s in range(n_states):\n",
        "            v = V[s]\n",
        "            for a in range(n_actions):\n",
        "                new_v = sum(R[s][a] + gamma * np.sum(T[s][a] * V))\n",
        "                policy[s][a] = new_v\n",
        "            V[s] = np.max(policy[s])\n",
        "            delta = max(delta, abs(v - V[s]))\n",
        "        if delta < tolerance:\n",
        "            break\n",
        "\n",
        "    # Extract the optimal policy\n",
        "    optimal_policy = np.zeros(n_states, dtype=int)\n",
        "    for s in range(n_states):\n",
        "        optimal_policy[s] = np.argmax(policy[s])\n",
        "\n",
        "    return optimal_policy.reshape(-1, 1)"
      ],
      "metadata": {
        "id": "wiEG1qkujIWM"
      },
      "execution_count": 89,
      "outputs": []
    },
    {
      "cell_type": "code",
      "source": [
        "n_actions = 2\n",
        "n_states = 3\n",
        "\n",
        "optimal_policy = howard_policy_iteration(T, R, n_actions, n_states, gamma)\n",
        "print(\"Optimal Policy:\")\n",
        "print(optimal_policy)"
      ],
      "metadata": {
        "colab": {
          "base_uri": "https://localhost:8080/"
        },
        "id": "qqyhZbKLkYrM",
        "outputId": "d58f3beb-9b05-4c23-c7e1-684f826fa3fc"
      },
      "execution_count": 90,
      "outputs": [
        {
          "output_type": "stream",
          "name": "stdout",
          "text": [
            "Optimal Policy:\n",
            "[[0]\n",
            " [0]\n",
            " [0]]\n"
          ]
        },
        {
          "output_type": "stream",
          "name": "stderr",
          "text": [
            "<ipython-input-89-13d54e38ca73>:11: RuntimeWarning: overflow encountered in scalar add\n",
            "  new_v = sum(R[s][a] + gamma * np.sum(T[s][a] * V))\n",
            "<ipython-input-89-13d54e38ca73>:11: RuntimeWarning: invalid value encountered in multiply\n",
            "  new_v = sum(R[s][a] + gamma * np.sum(T[s][a] * V))\n"
          ]
        }
      ]
    },
    {
      "cell_type": "markdown",
      "source": [
        "*Simple policy iteration*"
      ],
      "metadata": {
        "id": "jzD_PPBMna4S"
      }
    },
    {
      "cell_type": "code",
      "source": [
        "def simple_policy_iteration(T, R, n_actions, n_states, gamma, max_iterations=1000, tolerance=1e-6):\n",
        "    # Initialize the value function and policy\n",
        "    V = np.zeros(n_states)\n",
        "    policy = np.zeros((n_states, n_actions))\n",
        "\n",
        "    for _ in range(max_iterations):\n",
        "        # Policy Evaluation\n",
        "        for s in range(n_states):\n",
        "            v = V[s]\n",
        "            action_values = np.zeros(n_actions)\n",
        "            for a in range(n_actions):\n",
        "                action_values[a] = sum(R[s][a] + gamma * np.sum(T[s][a] * V))\n",
        "            policy[s] = np.argmax(action_values)\n",
        "            V[s] = np.max(action_values)\n",
        "\n",
        "        # Policy Improvement\n",
        "        policy_stable = True\n",
        "        for s in range(n_states):\n",
        "            old_action = np.argmax(policy[s])\n",
        "            action_values = np.zeros(n_actions)\n",
        "            for a in range(n_actions):\n",
        "                action_values[a] = sum(R[s][a] + gamma * np.sum(T[s][a] * V))\n",
        "            policy[s] = np.argmax(action_values)\n",
        "            if old_action != np.argmax(action_values):\n",
        "                policy_stable = False\n",
        "\n",
        "        if policy_stable:\n",
        "            break\n",
        "\n",
        "    # Extract the optimal policy\n",
        "    optimal_policy = np.zeros(n_states, dtype=int)\n",
        "    for s in range(n_states):\n",
        "        optimal_policy[s] = np.argmax(policy[s])\n",
        "\n",
        "    return optimal_policy.reshape(-1, 1)\n"
      ],
      "metadata": {
        "id": "GBHb1gHBdPKs"
      },
      "execution_count": 91,
      "outputs": []
    },
    {
      "cell_type": "code",
      "source": [
        "n_actions = 2\n",
        "n_states = 3\n",
        "\n",
        "optimal_policy = simple_policy_iteration(T, R, n_actions, n_states, gamma)\n",
        "print(\"Optimal Policy:\")\n",
        "print(optimal_policy)"
      ],
      "metadata": {
        "colab": {
          "base_uri": "https://localhost:8080/"
        },
        "id": "d065LxgVlY7E",
        "outputId": "a1efd64a-56b1-49d3-b76e-500bbeba0b82"
      },
      "execution_count": 92,
      "outputs": [
        {
          "output_type": "stream",
          "name": "stdout",
          "text": [
            "Optimal Policy:\n",
            "[[0]\n",
            " [0]\n",
            " [0]]\n"
          ]
        },
        {
          "output_type": "stream",
          "name": "stderr",
          "text": [
            "<ipython-input-91-0c3969d7422e>:12: RuntimeWarning: overflow encountered in scalar add\n",
            "  action_values[a] = sum(R[s][a] + gamma * np.sum(T[s][a] * V))\n",
            "<ipython-input-91-0c3969d7422e>:22: RuntimeWarning: invalid value encountered in multiply\n",
            "  action_values[a] = sum(R[s][a] + gamma * np.sum(T[s][a] * V))\n",
            "<ipython-input-91-0c3969d7422e>:12: RuntimeWarning: invalid value encountered in multiply\n",
            "  action_values[a] = sum(R[s][a] + gamma * np.sum(T[s][a] * V))\n"
          ]
        }
      ]
    },
    {
      "cell_type": "code",
      "source": [],
      "metadata": {
        "id": "jECSS60N1dvz"
      },
      "execution_count": null,
      "outputs": []
    },
    {
      "cell_type": "code",
      "source": [],
      "metadata": {
        "id": "qIFyeRbw1dsS"
      },
      "execution_count": null,
      "outputs": []
    },
    {
      "cell_type": "code",
      "source": [],
      "metadata": {
        "id": "IWGxASq-1doy"
      },
      "execution_count": null,
      "outputs": []
    },
    {
      "cell_type": "code",
      "source": [
        "# va = np.zeros(3)\n",
        "# vb = np.zeros(3)\n",
        "# while(1):\n",
        "\n",
        "#   vb[0] = (1-s)*(2 + (gamma*va[1])) +  (s)*(-1 + (gamma*va[2]))\n",
        "#   vb[1] = 1 + va[1]\n",
        "#   vb[2] = (f)*(1 + (gamma*va[0])) + (1-f)*(-1 + (gamma*va[2]))\n",
        "\n",
        "#   if(vb[0]==va[0]):\n",
        "#     if(vb[1]==va[1]):\n",
        "#       if(vb[2]==va[2]):\n",
        "#         break\n",
        "\n",
        "#   va=vb"
      ],
      "metadata": {
        "id": "keMuvssPKpM0"
      },
      "execution_count": null,
      "outputs": []
    },
    {
      "cell_type": "code",
      "source": [
        "#vb"
      ],
      "metadata": {
        "id": "_F3qvdQfK1at"
      },
      "execution_count": null,
      "outputs": []
    },
    {
      "cell_type": "code",
      "source": [],
      "metadata": {
        "id": "z1UrT9_6K2am"
      },
      "execution_count": null,
      "outputs": []
    }
  ],
  "metadata": {
    "colab": {
      "provenance": []
    },
    "kernelspec": {
      "display_name": "Python 3 (ipykernel)",
      "language": "python",
      "name": "python3"
    },
    "language_info": {
      "codemirror_mode": {
        "name": "ipython",
        "version": 3
      },
      "file_extension": ".py",
      "mimetype": "text/x-python",
      "name": "python",
      "nbconvert_exporter": "python",
      "pygments_lexer": "ipython3",
      "version": "3.8.10"
    }
  },
  "nbformat": 4,
  "nbformat_minor": 0
}