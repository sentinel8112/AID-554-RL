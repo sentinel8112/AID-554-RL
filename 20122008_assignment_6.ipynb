{
  "nbformat": 4,
  "nbformat_minor": 0,
  "metadata": {
    "colab": {
      "provenance": []
    },
    "kernelspec": {
      "name": "python3",
      "display_name": "Python 3"
    },
    "language_info": {
      "name": "python"
    }
  },
  "cells": [
    {
      "cell_type": "code",
      "source": [
        "!pip install numba"
      ],
      "metadata": {
        "colab": {
          "base_uri": "https://localhost:8080/"
        },
        "id": "Fe-vfIqxeG2I",
        "outputId": "a95a907e-ce5a-4bb9-e9a6-36761cff7df2"
      },
      "execution_count": null,
      "outputs": [
        {
          "output_type": "stream",
          "name": "stdout",
          "text": [
            "Requirement already satisfied: numba in /usr/local/lib/python3.10/dist-packages (0.58.1)\n",
            "Requirement already satisfied: llvmlite<0.42,>=0.41.0dev0 in /usr/local/lib/python3.10/dist-packages (from numba) (0.41.1)\n",
            "Requirement already satisfied: numpy<1.27,>=1.22 in /usr/local/lib/python3.10/dist-packages (from numba) (1.25.2)\n"
          ]
        }
      ]
    },
    {
      "cell_type": "code",
      "source": [
        "import numpy as np\n",
        "from numba import jit"
      ],
      "metadata": {
        "id": "tHKnzF1_9_8t"
      },
      "execution_count": null,
      "outputs": []
    },
    {
      "cell_type": "code",
      "execution_count": null,
      "metadata": {
        "id": "GszIe2lMxCSP",
        "colab": {
          "base_uri": "https://localhost:8080/"
        },
        "outputId": "fed9a31c-68f0-4643-cb44-bedf54bb4147"
      },
      "outputs": [
        {
          "output_type": "stream",
          "name": "stdout",
          "text": [
            "Value of p1: 0.9546453091805736\n",
            "Value of p2: 0.10733755495259908\n",
            "Value of r1: 2\n",
            "Value of r2: 0\n",
            "Value of epsilon: 0.1\n"
          ]
        }
      ],
      "source": [
        "#Enter the sum of digits in your enrollment number as seed\n",
        "\n",
        "\n",
        "def environment(seed):\n",
        "  np.random.seed(seed)\n",
        "  p1 = np.random.uniform(0.7,1)\n",
        "  p2 = np.random.uniform(0,0.6)\n",
        "  return p1, p2\n",
        "\n",
        "epsilon = 0.1\n",
        "r1 = 2\n",
        "r2 = 0\n",
        "\n",
        "#Enter the sum of digits in your enrollment number as seed\n",
        "seed = 43\n",
        "p1, p2 = environment(15)\n",
        "print('Value of p1:', p1)\n",
        "print('Value of p2:', p2)\n",
        "print('Value of r1:', r1)\n",
        "print('Value of r2:', r2)\n",
        "print('Value of epsilon:', epsilon)"
      ]
    },
    {
      "cell_type": "markdown",
      "source": [
        "Transition function and reward functions"
      ],
      "metadata": {
        "id": "N5K26vBkA2fm"
      }
    },
    {
      "cell_type": "code",
      "source": [
        "T =np.zeros([3,3])\n",
        "T[0]= [p1*(1-epsilon),(1-p1)*(1-epsilon),epsilon]\n",
        "T[1]= [(1-p2)*(1-epsilon),p2*(1-epsilon),epsilon]\n",
        "T[2]= [0,0,0]\n",
        "\n",
        "R = np.zeros(3)\n",
        "R[0] = r1\n",
        "R[1] = r2\n",
        "R[2] = 0"
      ],
      "metadata": {
        "id": "nKhQnsXRAP55"
      },
      "execution_count": null,
      "outputs": []
    },
    {
      "cell_type": "markdown",
      "source": [
        "# **Que 1**\n",
        "\n",
        "---\n",
        "\n",
        "**states**\n",
        "\n",
        "*   s1 - 0\n",
        "*   s2 - 1\n",
        "*   sT - 3\n",
        "\n",
        "\n",
        "\n"
      ],
      "metadata": {
        "id": "aPTVkiSjALzD"
      }
    },
    {
      "cell_type": "code",
      "source": [
        "def transition(state):\n",
        "  if state==2:\n",
        "    return 0.0,-1\n",
        "\n",
        "  else:\n",
        "    r =      R[state]\n",
        "    s_new =  np.random.choice([0,1,2],p = T[state])\n",
        "\n",
        "    return r, s_new\n"
      ],
      "metadata": {
        "id": "U0Ns7ESz_TDm"
      },
      "execution_count": null,
      "outputs": []
    },
    {
      "cell_type": "code",
      "source": [
        "transition(0)"
      ],
      "metadata": {
        "colab": {
          "base_uri": "https://localhost:8080/"
        },
        "id": "msrQrYJoRAvC",
        "outputId": "478b1a5e-b10d-4a4c-e422-c1204efab49f"
      },
      "execution_count": null,
      "outputs": [
        {
          "output_type": "execute_result",
          "data": {
            "text/plain": [
              "(2.0, 0)"
            ]
          },
          "metadata": {},
          "execution_count": 6
        }
      ]
    },
    {
      "cell_type": "code",
      "source": [
        "T"
      ],
      "metadata": {
        "colab": {
          "base_uri": "https://localhost:8080/"
        },
        "id": "1O7cPglvRLaB",
        "outputId": "faffbc48-659a-4a6f-8efa-65e2fd23a8cf"
      },
      "execution_count": null,
      "outputs": [
        {
          "output_type": "execute_result",
          "data": {
            "text/plain": [
              "array([[0.85918078, 0.04081922, 0.1       ],\n",
              "       [0.8033962 , 0.0966038 , 0.1       ],\n",
              "       [0.        , 0.        , 0.        ]])"
            ]
          },
          "metadata": {},
          "execution_count": 7
        }
      ]
    },
    {
      "cell_type": "code",
      "source": [
        "@jit#('np.float64(list,int64)',nopython=True)\n",
        "def g(arr, i):\n",
        "    tot = 0\n",
        "    for j in range(0, i):\n",
        "        tot += arr[j]\n",
        "    tot = np.sum(arr) - tot\n",
        "    return tot\n",
        "\n",
        "\n"
      ],
      "metadata": {
        "id": "0mNiqCDyKBe8",
        "colab": {
          "base_uri": "https://localhost:8080/"
        },
        "outputId": "192adc3c-6037-4278-fd2e-1f0b731a013a"
      },
      "execution_count": null,
      "outputs": [
        {
          "output_type": "stream",
          "name": "stderr",
          "text": [
            "<ipython-input-8-35a0fb7bff19>:2: NumbaDeprecationWarning: The 'nopython' keyword argument was not supplied to the 'numba.jit' decorator. The implicit default value for this argument is currently False, but it will be changed to True in Numba 0.59.0. See https://numba.readthedocs.io/en/stable/reference/deprecation.html#deprecation-of-object-mode-fall-back-behaviour-when-using-jit for details.\n",
            "  def g(arr, i):\n"
          ]
        }
      ]
    },
    {
      "cell_type": "code",
      "source": [
        "@jit\n",
        "def one(arr,s,i):\n",
        "  # index = 0\n",
        "  n = 0\n",
        "  found = 0\n",
        "  for z in range(len(arr)):\n",
        "    if arr[z] ==s:\n",
        "      n += 1\n",
        "    if n==i:\n",
        "      index = z\n",
        "      found = 1\n",
        "      break\n",
        "  return found, index"
      ],
      "metadata": {
        "id": "Tgwa8o3LLLMJ",
        "colab": {
          "base_uri": "https://localhost:8080/"
        },
        "outputId": "67098f74-3d12-46b1-9ee9-71211fe31053"
      },
      "execution_count": null,
      "outputs": [
        {
          "output_type": "stream",
          "name": "stderr",
          "text": [
            "<ipython-input-9-41dade2e3ac4>:2: NumbaDeprecationWarning: The 'nopython' keyword argument was not supplied to the 'numba.jit' decorator. The implicit default value for this argument is currently False, but it will be changed to True in Numba 0.59.0. See https://numba.readthedocs.io/en/stable/reference/deprecation.html#deprecation-of-object-mode-fall-back-behaviour-when-using-jit for details.\n",
            "  def one(arr,s,i):\n"
          ]
        }
      ]
    },
    {
      "cell_type": "markdown",
      "source": [
        "Generating episodes"
      ],
      "metadata": {
        "id": "sKf7WaIAH_gY"
      }
    },
    {
      "cell_type": "code",
      "source": [
        "s_all = []\n",
        "r_all = []\n",
        "for i in range(1000):\n",
        "  episode = []\n",
        "  r_episode = []\n",
        "  init = np.random.choice([0,1])\n",
        "  episode.append(init)\n",
        "  while(init!=2):\n",
        "    rew, init = transition(init)\n",
        "    episode.append(init)\n",
        "    r_episode.append(rew)\n",
        "  s_all.append(episode)\n",
        "  r_all.append(r_episode)\n"
      ],
      "metadata": {
        "id": "dihG-4s1G85N"
      },
      "execution_count": null,
      "outputs": []
    },
    {
      "cell_type": "code",
      "source": [
        "s_all"
      ],
      "metadata": {
        "id": "eLDm-E4mKAp_"
      },
      "execution_count": null,
      "outputs": []
    },
    {
      "cell_type": "code",
      "source": [
        "r_all"
      ],
      "metadata": {
        "id": "NIBFeqo5PRF-"
      },
      "execution_count": null,
      "outputs": []
    },
    {
      "cell_type": "code",
      "source": [
        "one(s_all[0],2,2)"
      ],
      "metadata": {
        "id": "fOvjc6VSaMgL",
        "colab": {
          "base_uri": "https://localhost:8080/"
        },
        "outputId": "9ec2544e-85d2-44a0-f7a5-eff4b4912b58"
      },
      "execution_count": null,
      "outputs": [
        {
          "output_type": "stream",
          "name": "stderr",
          "text": [
            "/usr/local/lib/python3.10/dist-packages/numba/core/ir_utils.py:2172: NumbaPendingDeprecationWarning: \n",
            "Encountered the use of a type that is scheduled for deprecation: type 'reflected list' found for argument 'arr' of function 'one'.\n",
            "\n",
            "For more information visit https://numba.readthedocs.io/en/stable/reference/deprecation.html#deprecation-of-reflection-for-list-and-set-types\n",
            "\n",
            "File \"<ipython-input-9-41dade2e3ac4>\", line 2:\n",
            "@jit\n",
            "def one(arr,s,i):\n",
            "^\n",
            "\n",
            "  warnings.warn(NumbaPendingDeprecationWarning(msg, loc=loc))\n"
          ]
        },
        {
          "output_type": "execute_result",
          "data": {
            "text/plain": [
              "(0, 0)"
            ]
          },
          "metadata": {},
          "execution_count": 13
        }
      ]
    },
    {
      "cell_type": "markdown",
      "source": [
        "# ***First visit monte carlo estimates***"
      ],
      "metadata": {
        "id": "LUu5dY2CZIER"
      }
    },
    {
      "cell_type": "code",
      "source": [
        "# of = []\n",
        "# indexes =[]\n",
        "# j = 0\n",
        "# index = 0\n",
        "# gf = []\n",
        "# for i in range(len(s_all)):\n",
        "#   j , index = one(s_all[i],0,1)\n",
        "#   if j==1:\n",
        "#     of.append(j)\n",
        "#     indexes.append(index)\n",
        "#     gf.append(g(r_all[i],index))\n",
        "\n"
      ],
      "metadata": {
        "id": "D3r3v3HEQxCQ"
      },
      "execution_count": null,
      "outputs": []
    },
    {
      "cell_type": "code",
      "source": [
        "@jit\n",
        "def V(g,o):\n",
        "  value = sum(g)/sum(o)\n",
        "  return value"
      ],
      "metadata": {
        "colab": {
          "base_uri": "https://localhost:8080/"
        },
        "id": "G0oTt6viSgcr",
        "outputId": "d3b9c37c-041f-48dc-aadd-e61d942bf25f"
      },
      "execution_count": null,
      "outputs": [
        {
          "output_type": "stream",
          "name": "stderr",
          "text": [
            "<ipython-input-62-4643071a98f7>:2: NumbaDeprecationWarning: The 'nopython' keyword argument was not supplied to the 'numba.jit' decorator. The implicit default value for this argument is currently False, but it will be changed to True in Numba 0.59.0. See https://numba.readthedocs.io/en/stable/reference/deprecation.html#deprecation-of-object-mode-fall-back-behaviour-when-using-jit for details.\n",
            "  def V(g,o):\n"
          ]
        }
      ]
    },
    {
      "cell_type": "code",
      "source": [
        "Vfirst = np.zeros(3)\n",
        "for k in range (3):\n",
        "  of = []\n",
        "  indexes =[]\n",
        "  j = 0\n",
        "  index = 0\n",
        "  gf = []\n",
        "  for i in range(len(s_all)):\n",
        "    j , index = one(s_all[i],k,1)\n",
        "    if j==1:\n",
        "      of.append(j)\n",
        "      indexes.append(index)\n",
        "      gf.append(g(r_all[i],index))\n",
        "  Vfirst[k] = V(gf,of)\n",
        "\n",
        "\n",
        "\n",
        "\n"
      ],
      "metadata": {
        "id": "Uxh7cnMkg0AJ"
      },
      "execution_count": null,
      "outputs": []
    },
    {
      "cell_type": "code",
      "source": [
        "Vfirst"
      ],
      "metadata": {
        "colab": {
          "base_uri": "https://localhost:8080/"
        },
        "id": "h6LCRb7eUxPj",
        "outputId": "e3b62a2d-3ec4-479b-a667-3891cd515c53"
      },
      "execution_count": null,
      "outputs": [
        {
          "output_type": "execute_result",
          "data": {
            "text/plain": [
              "array([18.83262712, 16.95665635,  0.        ])"
            ]
          },
          "metadata": {},
          "execution_count": 44
        }
      ]
    },
    {
      "cell_type": "markdown",
      "source": [
        "**Hence first visit monte carlo estimates for the states are**\n",
        "\n",
        "\n",
        "*   S1 - 18.83262712\n",
        "*   S2 - 16.95665635\n",
        "*   ST - 0\n",
        "\n",
        "\n",
        "\n",
        "\n"
      ],
      "metadata": {
        "id": "RN_a9ACQU0kw"
      }
    },
    {
      "cell_type": "markdown",
      "source": [
        "# **Second visit monte carlo estimates**"
      ],
      "metadata": {
        "id": "eCRKmI4jVhkg"
      }
    },
    {
      "cell_type": "code",
      "source": [
        "Vsecond = np.zeros(2)\n",
        "for k in range (2):\n",
        "  of = []\n",
        "  indexes =[]\n",
        "  j = 0\n",
        "  index = 0\n",
        "  gf = []\n",
        "  for i in range(len(s_all)):\n",
        "    j , index = one(s_all[i],k,2)\n",
        "    if j==1:\n",
        "      of.append(j)\n",
        "      indexes.append(index)\n",
        "      gf.append(g(r_all[i],index))\n",
        "  if of:\n",
        "    Vsecond[k]  = V(gf,of)"
      ],
      "metadata": {
        "id": "0j4oG8DVUy2L"
      },
      "execution_count": null,
      "outputs": []
    },
    {
      "cell_type": "code",
      "source": [
        "s_all[1]"
      ],
      "metadata": {
        "colab": {
          "base_uri": "https://localhost:8080/"
        },
        "id": "7ErST1Z_eNxd",
        "outputId": "11474202-570d-4971-8a17-2cd5fc370c10"
      },
      "execution_count": null,
      "outputs": [
        {
          "output_type": "execute_result",
          "data": {
            "text/plain": [
              "[1, 0, 0, 0, 0, 2]"
            ]
          },
          "metadata": {},
          "execution_count": 47
        }
      ]
    },
    {
      "cell_type": "code",
      "source": [
        "Vsecond"
      ],
      "metadata": {
        "colab": {
          "base_uri": "https://localhost:8080/"
        },
        "id": "DtPnl_Foa8wY",
        "outputId": "0546b481-33cb-4719-beb8-0f778fb83465"
      },
      "execution_count": null,
      "outputs": [
        {
          "output_type": "execute_result",
          "data": {
            "text/plain": [
              "array([18.80473373, 18.09302326])"
            ]
          },
          "metadata": {},
          "execution_count": 46
        }
      ]
    },
    {
      "cell_type": "markdown",
      "source": [
        "**Hence second visit monte carlo estimates for the states are**\n",
        "\n",
        "\n",
        "*   S1 - 18.80473373\n",
        "*   S2 - 18.09302326\n",
        "*   ST - 0"
      ],
      "metadata": {
        "id": "y5XZF9pHdgYW"
      }
    },
    {
      "cell_type": "markdown",
      "source": [
        "# **every visit monte carlo estimates**"
      ],
      "metadata": {
        "id": "usJPFiSsnQN7"
      }
    },
    {
      "cell_type": "code",
      "source": [
        "Vall = np.zeros(2)\n",
        "for k in range (2):\n",
        "  of = []\n",
        "  indexes =[]\n",
        "  j = 0\n",
        "  index = 0\n",
        "  gf = []\n",
        "  for i in range(len(s_all)):\n",
        "    for z in range(1,len(s_all[i])+1):\n",
        "\n",
        "      j , index = one(s_all[i],k,z)\n",
        "      if j==1:\n",
        "        of.append(j)\n",
        "        indexes.append(index)\n",
        "        gf.append(g(r_all[i],index))\n",
        "  if of:\n",
        "    Vall[k]  = V(gf,of)"
      ],
      "metadata": {
        "id": "ISlv9FJknQOD"
      },
      "execution_count": null,
      "outputs": []
    },
    {
      "cell_type": "code",
      "source": [
        "Vall"
      ],
      "metadata": {
        "colab": {
          "base_uri": "https://localhost:8080/"
        },
        "outputId": "5f2faf3a-4933-4368-b58e-5c0861e5f016",
        "id": "6_WYZo2dnQOD"
      },
      "execution_count": null,
      "outputs": [
        {
          "output_type": "execute_result",
          "data": {
            "text/plain": [
              "array([19.31375858, 17.274244  ])"
            ]
          },
          "metadata": {},
          "execution_count": 68
        }
      ]
    },
    {
      "cell_type": "markdown",
      "source": [
        "**Hence every visit monte carlo estimates for the states are**\n",
        "\n",
        "\n",
        "*   S1 - 19.31375858\n",
        "*   S2 - 17.274244\n",
        "*   ST - 0"
      ],
      "metadata": {
        "id": "eBhBpxMJr_DR"
      }
    },
    {
      "cell_type": "markdown",
      "source": [
        "# **Last visit monte carlo estimates**"
      ],
      "metadata": {
        "id": "ammF7KhNrUoe"
      }
    },
    {
      "cell_type": "code",
      "source": [
        "Vlast = np.zeros(2)\n",
        "for k in range (2):\n",
        "  of = []\n",
        "  indexes =[]\n",
        "  j = 0\n",
        "  index = 0\n",
        "  gf = []\n",
        "  for i in range(len(s_all)):\n",
        "    z=0\n",
        "    for state in s_all[i]:\n",
        "      if state ==k:\n",
        "        z = z+1\n",
        "    j , index = one(s_all[i],k,z)\n",
        "    if j==1:\n",
        "      of.append(j)\n",
        "      indexes.append(index)\n",
        "      gf.append(g(r_all[i],index))\n",
        "  if of:\n",
        "    Vlast[k]  = V(gf,of)"
      ],
      "metadata": {
        "id": "IHZ4V4ZcrUoe"
      },
      "execution_count": null,
      "outputs": []
    },
    {
      "cell_type": "code",
      "source": [
        "Vlast"
      ],
      "metadata": {
        "colab": {
          "base_uri": "https://localhost:8080/"
        },
        "outputId": "910d84f6-4a93-4c5f-f5a4-7cd912db2e41",
        "id": "5tVjS8bbrUof"
      },
      "execution_count": null,
      "outputs": [
        {
          "output_type": "execute_result",
          "data": {
            "text/plain": [
              "array([ 1.888, 12.718])"
            ]
          },
          "metadata": {},
          "execution_count": 71
        }
      ]
    },
    {
      "cell_type": "markdown",
      "source": [
        "**Hence last visit monte carlo estimates for the states are**\n",
        "\n",
        "\n",
        "*   S1 - 1.888\n",
        "*   S2 - 12.718\n",
        "*   ST - 0"
      ],
      "metadata": {
        "id": "eTp_IQ2gsAEU"
      }
    },
    {
      "cell_type": "markdown",
      "source": [
        "# **Values using Bellman's equation**"
      ],
      "metadata": {
        "id": "8tVYV5esrTx1"
      }
    },
    {
      "cell_type": "code",
      "source": [
        "va = np.zeros(2)\n",
        "vb = np.zeros(2)\n",
        "while(1):\n",
        "\n",
        "  vb[0] = 2*epsilon +(1-epsilon)*(p1*(2+va[0]) + (1-p1)*(2+va[1]))\n",
        "  vb[1] = 1*epsilon +(1-epsilon)*(p2*(1+va[1]) + (1-p2)*(1+va[0]))\n",
        "\n",
        "  if(vb[0]==va[0]):\n",
        "    if(vb[1]==va[1]):\n",
        "      break\n",
        "\n",
        "  va=np.copy(vb)"
      ],
      "metadata": {
        "id": "yq8POYJQrR36"
      },
      "execution_count": null,
      "outputs": []
    },
    {
      "cell_type": "code",
      "source": [
        "vb"
      ],
      "metadata": {
        "colab": {
          "base_uri": "https://localhost:8080/"
        },
        "id": "Tl1fKQa9zO6L",
        "outputId": "042eb6f6-3cc8-430c-cabe-ab7cbd79ecc4"
      },
      "execution_count": null,
      "outputs": [
        {
          "output_type": "execute_result",
          "data": {
            "text/plain": [
              "array([19.56769164, 18.50861129])"
            ]
          },
          "metadata": {},
          "execution_count": 75
        }
      ]
    },
    {
      "cell_type": "code",
      "source": [],
      "metadata": {
        "id": "kJLZfKXAz-MG"
      },
      "execution_count": null,
      "outputs": []
    }
  ]
}